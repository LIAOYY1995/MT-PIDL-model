{
 "cells": [
  {
   "cell_type": "code",
   "execution_count": 2,
   "id": "7e802fd0-8909-4479-92cb-d7781b76d35d",
   "metadata": {},
   "outputs": [
    {
     "name": "stderr",
     "output_type": "stream",
     "text": [
      "Using backend: tensorflow.compat.v1\n",
      "Other supported backends: tensorflow, pytorch, jax, paddle.\n",
      "paddle supports more examples now and is recommended.\n"
     ]
    },
    {
     "name": "stdout",
     "output_type": "stream",
     "text": [
      "WARNING:tensorflow:From C:\\Users\\15984\\anaconda3\\envs\\tf2.9\\lib\\site-packages\\tensorflow\\python\\compat\\v2_compat.py:107: disable_resource_variables (from tensorflow.python.ops.variable_scope) is deprecated and will be removed in a future version.\n",
      "Instructions for updating:\n",
      "non-resource variables are not supported in the long term\n"
     ]
    },
    {
     "name": "stderr",
     "output_type": "stream",
     "text": [
      "Enable just-in-time compilation with XLA.\n",
      "\n"
     ]
    },
    {
     "name": "stdout",
     "output_type": "stream",
     "text": [
      "WARNING:tensorflow:From C:\\Users\\15984\\anaconda3\\envs\\tf2.9\\lib\\site-packages\\deepxde\\nn\\initializers.py:118: The name tf.keras.initializers.he_normal is deprecated. Please use tf.compat.v1.keras.initializers.he_normal instead.\n",
      "\n",
      "[0.1 0.3 0.5 0.7 0.9]\n"
     ]
    }
   ],
   "source": [
    "#————————————————————— 数据处理 ———————————————————————#\n",
    "from __future__ import absolute_import\n",
    "from __future__ import division\n",
    "from __future__ import print_function\n",
    "import numpy as np\n",
    "import matplotlib.pyplot as plt\n",
    "from matplotlib.pyplot import savefig\n",
    "from sympy import integrate, exp, sin, log, oo, pi,symbols\n",
    "import deepxde as dde\n",
    "import scipy.io as scio\n",
    "from mpl_toolkits.mplot3d import Axes3D\n",
    "from deepxde.backend import tf\n",
    "import datetime\n",
    "import os\n",
    "from pylab import mpl\n",
    "from scipy.signal import chirp, spectrogram\n",
    "mpl.rcParams['font.sans-serif']=['SimHei']\n",
    "mpl.rcParams['axes.unicode_minus']=False\n",
    "from matplotlib.pyplot import MultipleLocator\n",
    "import re\n",
    "from scipy.io import loadmat\n",
    "from sklearn.preprocessing import MinMaxScaler\n",
    "from math import sqrt, pi\n",
    "\n",
    "from tensorflow.keras.utils import get_custom_objects\n",
    "from tensorflow.keras.layers import Activation\n",
    "from tensorflow.keras.callbacks import LearningRateScheduler\n",
    "from tensorflow.keras import Sequential\n",
    "from tensorflow.keras.layers import Dense\n",
    "from tensorflow.keras.callbacks import LambdaCallback\n",
    "\n",
    "def generate_labeled_data():\n",
    "    data_w = loadmat(\"FSIIN_CL.mat\")\n",
    "    t_data = data_w[\"T_L\"].flatten()[:, None]  # 3001*1\n",
    "    x_data = data_w[\"X_L\"].flatten()  # 101*1\n",
    "    y_data = data_w[\"Y_L\"]  # 3001*101\n",
    "    # 根据指定的时间范围 \n",
    "    valid_indices = (t_data >= 0) & (t_data <=2)\n",
    "    t_data_filtered = t_data[valid_indices]\n",
    "    y_data_filtered = y_data[valid_indices.flatten(), :]  # 保留所有空间位置的过滤时间步\n",
    "    # 选择均匀的11个空间点的索引\n",
    "    num_space_points =5\n",
    "    space_indices = np.linspace(10, 90, num_space_points, dtype=int)  # 获取 11 个均匀间隔的空间点索引\n",
    "    # 根据这些索引选择空间点对应的 `x_data` 值\n",
    "   \n",
    "    x_data_filtered = x_data[space_indices]  # 选择对应空间位置的数据\n",
    "    # 根据这些空间点索引选择 `y_data` 对应的列\n",
    "    y_data_filtered_space = y_data_filtered[:, space_indices]  # 获取在这些空间点上对应的 `y_data`\n",
    "    print(x_data_filtered)\n",
    "    # 根据选择的均匀空间点生成对应的 `X` 和 `T` 网格\n",
    "    X, T = np.meshgrid(x_data_filtered, t_data_filtered.flatten())\n",
    "    # 构造输入\n",
    "    inputs = np.hstack([X.flatten()[:, None], T.flatten()[:, None]])\n",
    "    # 输出数据（标签）\n",
    "    outputs = y_data_filtered_space.flatten()[:, None]\n",
    "\n",
    "    return inputs, outputs\n",
    "\n",
    "\n",
    "\n",
    "#————————————————————— 损失函数定义 ———————————————————————#\n",
    "xt_data, y_data = generate_labeled_data()"
   ]
  },
  {
   "cell_type": "code",
   "execution_count": null,
   "id": "18f35a0d-f024-4923-99e1-1f395b75290b",
   "metadata": {},
   "outputs": [],
   "source": []
  }
 ],
 "metadata": {
  "kernelspec": {
   "display_name": "Python 3 (ipykernel)",
   "language": "python",
   "name": "python3"
  },
  "language_info": {
   "codemirror_mode": {
    "name": "ipython",
    "version": 3
   },
   "file_extension": ".py",
   "mimetype": "text/x-python",
   "name": "python",
   "nbconvert_exporter": "python",
   "pygments_lexer": "ipython3",
   "version": "3.8.20"
  }
 },
 "nbformat": 4,
 "nbformat_minor": 5
}
